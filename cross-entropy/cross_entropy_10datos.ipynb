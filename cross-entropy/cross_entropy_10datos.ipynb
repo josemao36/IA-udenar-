{
  "nbformat": 4,
  "nbformat_minor": 0,
  "metadata": {
    "colab": {
      "provenance": []
    },
    "kernelspec": {
      "name": "python3",
      "display_name": "Python 3"
    },
    "language_info": {
      "name": "python"
    }
  },
  "cells": [
    {
      "cell_type": "code",
      "execution_count": null,
      "metadata": {
        "id": "eJmkb1wQhENM"
      },
      "outputs": [],
      "source": [
        "import numpy as np\n",
        "\n",
        "# Distribución de probabilidad predicha por el modelo\n",
        "q = np.array([0.1, 0.2, 0.05, 0.15, 0.3, 0.05, 0.01, 0.02, 0.01, 0.01])\n",
        "\n",
        "# Distribución de probabilidad real de las etiquetas\n",
        "p = np.array([0, 0, 0, 0, 1, 0, 0, 0, 0, 0])\n",
        "\n",
        "# Cálculo de la entropía cruzada\n",
        "cross_entropy = -np.sum(p * np.log(q))\n",
        "\n",
        "print(cross_entropy)"
      ]
    }
  ]
}