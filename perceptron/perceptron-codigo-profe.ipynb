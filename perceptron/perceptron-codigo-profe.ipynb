{
  "cells": [
    {
      "cell_type": "code",
      "execution_count": null,
      "id": "9e56fa99",
      "metadata": {
        "id": "9e56fa99"
      },
      "outputs": [],
      "source": [
        "import matplotlib.pyplot as plt\n",
        "import numpy as np\n",
        "import pandas as pd\n",
        "\n",
        "%matplotlib inline\n",
        "\n",
        "# datos random\n",
        "np.random.seed(46)\n",
        "\n",
        "\n",
        "\n",
        "\n",
        "\n",
        "#funcion escalon\n",
        "def escalon(t):\n",
        "    if t >= 0:\n",
        "        return 1\n",
        "    return 0\n",
        "\n",
        "def prediccion(X, W, b):\n",
        "    return escalon((np.matmul(X,W)+b)[0])\n",
        "\n",
        "\n",
        "epocas=0\n",
        "\n",
        "\n",
        "\n",
        "# TODO: Algoritmo Perceptron.\n",
        "def perceptron_escalon(X, y, W, b, learn_rate ):\n",
        "\n",
        "\n",
        "    \n",
        "    \n",
        "    \n",
        "    solucion=prediccion(X,W,b)\n",
        "    global epocas\n",
        "    \n",
        "       \n",
        "       \n",
        "       \n",
        "\n",
        "    \n",
        "    \n",
        "\n",
        "    if solucion==0:\n",
        "      #print('uno')\n",
        "      if y[epocas]==0:\n",
        "         W[0]=W[0]+(1*learn_rate*(X[0,0]))\n",
        "         W[1]=W[1]+(1*learn_rate*(X[0,1]))\n",
        "         b=b+(6.3*learn_rate)\n",
        "      \n",
        "    else:\n",
        "       if y[epocas]==1:\n",
        "         W[0]=W[0]-(1*learn_rate*(X[0,0]))\n",
        "         W[1]=W[1]-(1*learn_rate*(X[0,1]))\n",
        "         b=b-(6.3*learn_rate)\n",
        "     \n",
        "        \n",
        "\n",
        "    epocas=epocas+1\n",
        "    if epocas==99:\n",
        "       epocas=0\n",
        "    \n",
        "\n",
        "    return W, b\n",
        "\n",
        "\n",
        "\n",
        "\n",
        "\n",
        "\n"
      ]
    },
    {
      "cell_type": "code",
      "execution_count": null,
      "id": "bad3f7e0",
      "metadata": {
        "colab": {
          "base_uri": "https://localhost:8080/",
          "height": 269
        },
        "id": "bad3f7e0",
        "outputId": "efffbe51-1ab8-4832-eb75-ec445569bf0e"
      },
      "outputs": [
        {
          "output_type": "display_data",
          "data": {
            "text/plain": [
              "<Figure size 432x288 with 1 Axes>"
            ],
            "image/png": "[encoded data removed]"
          },
          "metadata": {
            "needs_background": "light"
          }
        }
      ],
      "source": [
        "def entrenamiento(X, y, learn_rate=0.013, num_epochs=100):\n",
        "    \"\"\"\n",
        "    Esta funcion entrena el perceptron repetidamente en el dataset y retorna las lineas de clasificacion\n",
        "    obtenidas en las iteraciones,\n",
        "    \n",
        "    \"\"\"\n",
        "    x_min, x_max = min(X.T[0]), max(X.T[0])\n",
        "    y_min, y_max = min(X.T[1]), max(X.T[1])\n",
        "    W = np.array(np.random.rand(2,1))\n",
        "    \n",
        "    b = np.random.rand(1)[0] + x_max\n",
        "    \n",
        "    # Lineas que seran ploteadas.\n",
        "    lineas = []\n",
        "    for i in range(num_epochs):\n",
        "        # En cada epoch, se aplica el perceptron.\n",
        "        W, b = perceptron_escalon(X, y, W, b, learn_rate)\n",
        "        lineas.append((-W[0]/W[1], -b/W[1]))\n",
        "        \n",
        "    return lineas\n",
        "\n",
        "def plot_line(m, b, linestyle='dashed', color='gray', fill=False):\n",
        "    \"\"\"\n",
        "    Helper function to avoid repetitive code when plotting boundary lines\n",
        "    \"\"\"\n",
        "    x = np.arange(-1, 1.5, 0.1)\n",
        "    j = np.arange(0, 0.25, 0.05)\n",
        "    y1= [-0.05,-0.04,-0.03,-0.02,-0.01]\n",
        "    y2= np.arange(1.5,2, 0.01)\n",
        "    plt.plot(x, m*x+b, linestyle=linestyle, color=color)\n",
        "    if fill:\n",
        "      for i in range(5):\n",
        "          plt.fill_between(x, m*x+b,-0.05, color=blue, alpha=j[i])\n",
        "          plt.fill_between(x, m*x+b, 1.05, color=red, alpha=j[i])\n",
        "          \n",
        "\n",
        "\n",
        "# Cargamos data\n",
        "data = np.asarray(pd.read_csv(\"https://raw.githubusercontent.com/sadoky/inteligencia-_articial_ELECT/main/data.csv\"))\n",
        "X = data[:,0:2]\n",
        "y = data[:,2]\n",
        "\n",
        "\n",
        "# Modifique a su criterio la learning rate y en numero de epoch \n",
        "lineas = entrenamiento(X, y)\n",
        "\n",
        "# Estilo Plot\n",
        "plt.xlim(-0.05,1.05)\n",
        "plt.ylim(-0.05,1.05)\n",
        "plt.grid(False)\n",
        "plt.tick_params(axis='x', which='both', bottom='off', top='off')\n",
        "\n",
        "\n",
        "\n",
        "\n",
        "# Scatter para el grafico\n",
        "red = [1,0.3,0.3]\n",
        "blue = [0.25,0.5,1]\n",
        "red_points = X[np.argwhere(y==0).flatten()]\n",
        "blue_points = X[np.argwhere(y==1).flatten()]\n",
        "plt.scatter(red_points[:,0], red_points[:,1], s=50, color=red, edgecolor='k')\n",
        "plt.scatter(blue_points[:,0], blue_points[:,1], s=50, color=blue, edgecolor='k')\n",
        "\n",
        "# Plotea lineas y regiones solucion.\n",
        "for line in lineas:\n",
        "    slope = line[0]\n",
        "    b = line[1]\n",
        "    plot_line(slope, b)\n",
        "solution_slope = lineas[-1][0]\n",
        "solution_intercept = lineas[-1][1]\n",
        "plot_line(solution_slope, solution_intercept, 'solid', 'k', True)\n",
        "  "
      ]
    }
  ],
  "metadata": {
    "kernelspec": {
      "display_name": "Python 3",
      "language": "python",
      "name": "python3"
    },
    "language_info": {
      "codemirror_mode": {
        "name": "ipython",
        "version": 3
      },
      "file_extension": ".py",
      "mimetype": "text/x-python",
      "name": "python",
      "nbconvert_exporter": "python",
      "pygments_lexer": "ipython3",
      "version": "3.10.0"
    },
    "vscode": {
      "interpreter": {
        "hash": "92e93fd99677447a36819619535bb8b74b4f1e81af49650ffe9f238af256f6fd"
      }
    },
    "colab": {
      "provenance": []
    }
  },
  "nbformat": 4,
  "nbformat_minor": 5
}